{
 "cells": [
  {
   "cell_type": "code",
   "execution_count": 211,
   "metadata": {},
   "outputs": [
    {
     "name": "stdout",
     "output_type": "stream",
     "text": [
      "Matrix 10x3:\n",
      "[[0.99605919 0.86591006 0.23779729]\n",
      " [0.95447183 0.01164507 0.77537058]\n",
      " [0.56781975 0.06798236 0.2927219 ]\n",
      " [0.67870438 0.21273    0.74648125]\n",
      " [0.84688634 0.18723933 0.39230223]\n",
      " [0.64019568 0.8526016  0.79432873]\n",
      " [0.02804981 0.21578117 0.67508094]\n",
      " [0.32675084 0.90020905 0.04759427]\n",
      " [0.64763075 0.54507304 0.55323079]\n",
      " [0.67197117 0.22080692 0.28970743]]\n",
      "\n",
      "Minimum element in each row\n",
      "[0.23779729 0.77537058 0.56781975 0.67870438 0.39230223 0.64019568\n",
      " 0.67508094 0.32675084 0.54507304 0.67197117]\n"
     ]
    }
   ],
   "source": [
    "#первое задание\n",
    "import numpy as np\n",
    "y=np.random.random((10,3))\n",
    "\n",
    "print(\"Matrix 10x3:\")\n",
    "print(y)\n",
    "print(\"\\nMinimum element in each row\")\n",
    "z=np.min(abs(y-0.5),1)\n",
    "z1=z+0.5\n",
    "z2=0.5-z\n",
    "mask1=(y[:,0]==z1)+(y[:,1]==z1)+(y[:,2]==z1)#\n",
    "z2[mask1]=z1[mask1]\n",
    "print(z2)"
   ]
  },
  {
   "cell_type": "code",
   "execution_count": 13,
   "metadata": {},
   "outputs": [
    {
     "name": "stdout",
     "output_type": "stream",
     "text": [
      "Matrix 6x6\n",
      "[[0.71291824 0.4236434  0.59581764 0.99024092 0.20548557 0.80974547]\n",
      " [0.73480759 0.98313365 0.36079337 0.76458754 0.83149797 0.97660874]\n",
      " [0.41458986 0.64105914 0.11327269 0.0897238  0.00733294 0.44540153]\n",
      " [0.00381657 0.74293964 0.11079265 0.98296018 0.3085668  0.61271104]\n",
      " [0.54926153 0.63930532 0.50518707 0.54491641 0.11191982 0.39276662]\n",
      " [0.81357848 0.11510959 0.68084533 0.26628811 0.87352305 0.96243309]]\n",
      "\n",
      " \n",
      "[979.3733045   40.40869843  15.44669281  30.7809852  374.11435876\n",
      "   9.45033882]\n"
     ]
    }
   ],
   "source": [
    "#второе задание\n",
    "import numpy as np\n",
    "y=np.random.random((6,6))\n",
    "print(\"Matrix 6x6\")\n",
    "print(y)\n",
    "print(\"\\n \")\n",
    "print((np.sum(y,axis=1))/(np.min(y,axis=0)))"
   ]
  },
  {
   "cell_type": "code",
   "execution_count": 9,
   "metadata": {},
   "outputs": [
    {
     "name": "stdout",
     "output_type": "stream",
     "text": [
      "The max element, preceded by 0, is 5.\n"
     ]
    }
   ],
   "source": [
    "#Третье задание\n",
    "#я считаю, что 6 не стоит перед 0, поэтому в ответе выйдет 5\n",
    "import numpy as np\n",
    "x=np.array([6,2,0,3,0,0,5,7,0])\n",
    "mask =x==0\n",
    "mask[x.size-1]=False\n",
    "mask=~np.roll(mask,1)\n",
    "x[mask]=0\n",
    "print(\"The max element, preceded by 0, is \"+str(np.max(x))+\".\")"
   ]
  },
  {
   "cell_type": "code",
   "execution_count": 148,
   "metadata": {},
   "outputs": [
    {
     "name": "stdout",
     "output_type": "stream",
     "text": [
      "[2. 2. 2. 2. 1. 4. 1. 1. 2. 1.]\n"
     ]
    }
   ],
   "source": [
    "#четвертое задание\n",
    "import numpy as np\n",
    "x=np.ones(10)\n",
    "#1 1 1 \n",
    "i=np.array([0,1,2,3,5,5,5,8])\n",
    "size=x.size\n",
    "x +=np.bincount(i, minlength=size)\n",
    "print(x)\n"
   ]
  },
  {
   "cell_type": "code",
   "execution_count": 93,
   "metadata": {},
   "outputs": [
    {
     "name": "stdout",
     "output_type": "stream",
     "text": [
      "{0: [0], 1: [1, 4], 2: [2, 5, 8], 3: [3, 6, 9, 12], 4: [7, 10, 13], 5: [11, 14], 6: [15]}\n"
     ]
    }
   ],
   "source": [
    "#Пятое задание\n",
    "import numpy as np\n",
    "n=4\n",
    "a=np.arange(n*n).reshape(n,n)\n",
    "b=np.array(a).reshape(n*n)\n",
    "\n",
    "dict1={ }\n",
    "dict2={ }\n",
    "dict1.update({0: [0]})\n",
    "vect=b[n-1::n-1]\n",
    "dict2.update({n-1:list(vect[:-1])})\n",
    "for i in range(1,n-1):#я не представляю как здесь можно обойдись без цикла\n",
    "    dict1.update({i: list(b[i::n-1][:i+1])})\n",
    "    dict2.update({i+n-1:list(b[i::n-1][i+1:])})\n",
    "\n",
    "dict2.update({2*n-2: [n*n-1]})\n",
    "dict1.update(dict2)\n",
    "print(dict1)"
   ]
  },
  {
   "cell_type": "code",
   "execution_count": 168,
   "metadata": {},
   "outputs": [],
   "source": [
    "#шестое задание функции\n",
    "import numpy as np\n",
    "import random\n",
    "from scipy.spatial.distance import cdist\n",
    "#описание библиотечной функции whiten \n",
    "def whiten (features):\n",
    "    x=np.array(features)\n",
    "    b=np.std(x,axis=0)\n",
    "    x/=b\n",
    "    return x\n",
    "\n",
    "#алгоритм kmean\n",
    "def kmean (obs,k_or_guess,tresh=1e-05):\n",
    "    var=1.\n",
    "    distortion=0.\n",
    "    n=int(obs.size/obs[0].size) \n",
    "    k=0\n",
    "    codebook=np.array\n",
    "    #здесь я разбираю на случаи\n",
    "    #когда k_or_guess число\n",
    "    if type(k_or_guess)==type(k):\n",
    "        k=k_or_guess\n",
    "        S=list(np.arange(n))\n",
    "        random.shuffle(S)\n",
    "        S=np.array(S)\n",
    "        codebook=np.array(obs[S[0:k]])\n",
    "    #когда k_or_guess массив\n",
    "    else:\n",
    "        codebook=np.array(k_or_guess)\n",
    "        k=int(k_or_guess.size/2)\n",
    "            \n",
    "    while abs(var-distortion)>tresh:\n",
    "        distortion=var\n",
    "        #создание кластера, матрица S хранит индексы индексы  \n",
    "        S=np.argmin(cdist(obs,codebook),axis=1)\n",
    "        #поиск центра тяжести для каждого кластера\n",
    "        for i in range(k):\n",
    "            K=[]\n",
    "            for j in range(n):\n",
    "                if np.any(S[j]==i):\n",
    "                    K.append(obs[j])\n",
    "            codebook[i]=np.mean(K,0)\n",
    "        var=np.std(codebook)\n",
    "    return (codebook,distortion)"
   ]
  },
  {
   "cell_type": "code",
   "execution_count": 169,
   "metadata": {},
   "outputs": [
    {
     "data": {
      "text/plain": [
       "(array([[2.45121811, 3.03653641],\n",
       "        [0.98872663, 1.31944737]]), 0.8296716105153548)"
      ]
     },
     "execution_count": 169,
     "metadata": {},
     "output_type": "execute_result"
    }
   ],
   "source": [
    "#проверка шестого задания\n",
    "features = np.array([[ 1.9,2.3],#0\n",
    "                   [ 1.5,2.5],\n",
    "                   [ 0.8,0.6],#2\n",
    "                   [ 0.4,1.8],\n",
    "                   [ 0.1,0.1],#4\n",
    "                   [ 0.2,1.8],\n",
    "                   [ 2.0,0.5],#6\n",
    "                   [ 0.3,1.5],\n",
    "                   [ 1.0,1.0]])\n",
    "\n",
    "whitened=whiten(features)\n",
    "\n",
    "book=np.array((whitened[0],whitened[2]))\n",
    "\n",
    "kmean(whitened,book)\n",
    "#kmeans_export(book, whitened)"
   ]
  },
  {
   "cell_type": "code",
   "execution_count": 170,
   "metadata": {},
   "outputs": [
    {
     "data": {
      "text/plain": [
       "(array([[2.45121811, 3.03653641],\n",
       "        [0.98872663, 1.31944737]]), 0.9088234961964715)"
      ]
     },
     "execution_count": 170,
     "metadata": {},
     "output_type": "execute_result"
    }
   ],
   "source": [
    "#сравнение шестого задания, \n",
    "#если взять библиотечную функцию\n",
    "#ответ будет почти тот же\n",
    "from numpy import array\n",
    "from scipy.cluster.vq import vq, kmeans, whiten\n",
    "features  = array([[ 1.9,2.3],\n",
    "                   [ 1.5,2.5],\n",
    "                   [ 0.8,0.6],\n",
    "                   [ 0.4,1.8],\n",
    "                   [ 0.1,0.1],\n",
    "                   [ 0.2,1.8],\n",
    "                   [ 2.0,0.5],\n",
    "                   [ 0.3,1.5],\n",
    "                   [ 1.0,1.0]])\n",
    "whitened = whiten(features)\n",
    "book = array((whitened[0],whitened[2]))\n",
    "kmeans(whitened,book)"
   ]
  },
  {
   "cell_type": "code",
   "execution_count": 166,
   "metadata": {},
   "outputs": [
    {
     "data": {
      "text/plain": [
       "(array([[1.40584568, 0.69587293],\n",
       "        [2.45121811, 3.03653641],\n",
       "        [0.4325679 , 2.15087996]]), 0.5511808116483707)"
      ]
     },
     "execution_count": 166,
     "metadata": {},
     "output_type": "execute_result"
    }
   ],
   "source": [
    "#здесь вызвана библиотечная функция алгоритма kmeans\n",
    "from numpy import random\n",
    "random.seed((1000,2000))\n",
    "codes = 3\n",
    "kmeans(whitened,codes)"
   ]
  },
  {
   "cell_type": "code",
   "execution_count": 167,
   "metadata": {},
   "outputs": [
    {
     "data": {
      "text/plain": [
       "(array([[0.4325679 , 2.15087996],\n",
       "        [0.9131989 , 0.71695999],\n",
       "        [2.59540741, 2.23522819]]), 0.8426836939712384)"
      ]
     },
     "execution_count": 167,
     "metadata": {},
     "output_type": "execute_result"
    }
   ],
   "source": [
    "#здесь вызван алгоритм kmean, написанная мною\n",
    "#ответы отличаются,потому что были взяты разные центроиды\n",
    "from numpy import random\n",
    "random.seed((1000,2000))\n",
    "codes = 3\n",
    "kmean(whitened,codes)"
   ]
  }
 ],
 "metadata": {
  "kernelspec": {
   "display_name": "Python 3",
   "language": "python",
   "name": "python3"
  },
  "language_info": {
   "codemirror_mode": {
    "name": "ipython",
    "version": 3
   },
   "file_extension": ".py",
   "mimetype": "text/x-python",
   "name": "python",
   "nbconvert_exporter": "python",
   "pygments_lexer": "ipython3",
   "version": "3.7.0"
  }
 },
 "nbformat": 4,
 "nbformat_minor": 2
}
