{
 "cells": [
  {
   "cell_type": "code",
   "execution_count": 2,
   "metadata": {},
   "outputs": [
    {
     "name": "stdout",
     "output_type": "stream",
     "text": [
      "Matrix 10x6:\n",
      "[[0.42883535 0.74930013 0.4067428 ]\n",
      " [0.53856417 0.69466298 0.53103074]\n",
      " [0.42704258 0.32459148 0.64910233]\n",
      " [0.69282833 0.6147935  0.3375795 ]\n",
      " [0.87051944 0.42446066 0.62612296]\n",
      " [0.83685775 0.52402982 0.02130434]\n",
      " [0.13641435 0.28130642 0.2955729 ]\n",
      " [0.67282401 0.5289989  0.54706794]\n",
      " [0.92323387 0.46077661 0.36241209]\n",
      " [0.13484654 0.34824772 0.31373632]]\n",
      "\n",
      "Minimum element in each row\n",
      "[[0.42883535]\n",
      " [0.53103074]\n",
      " [0.42704258]\n",
      " [0.6147935 ]\n",
      " [0.42446066]\n",
      " [0.52402982]\n",
      " [0.2955729 ]\n",
      " [0.5289989 ]\n",
      " [0.46077661]\n",
      " [0.34824772]]\n"
     ]
    }
   ],
   "source": [
    "#первое задание\n",
    "import numpy as np\n",
    "y=np.random.random((10,3))\n",
    "\n",
    "def fun1(x):\n",
    "    size = int(x.size/x[0].size)\n",
    "    vector=fun2(x[0])\n",
    "    for i in range(1,size):\n",
    "        vector=np.vstack((vector,fun2(x[i])))\n",
    "    return vector\n",
    "def fun2(x):\n",
    "    size=int(x.size)\n",
    "    min=0.5\n",
    "    imin=-1\n",
    "    for i in range(size):\n",
    "        t=abs(0.5-x[i])\n",
    "        if t<min:\n",
    "            min=t\n",
    "            imin=i\n",
    "    return x[imin]\n",
    "\n",
    "print(\"Matrix 10x6:\")\n",
    "print(y)\n",
    "print(\"\\nMinimum element in each row\")\n",
    "print(fun1(y))\n"
   ]
  },
  {
   "cell_type": "code",
   "execution_count": 6,
   "metadata": {},
   "outputs": [
    {
     "name": "stdout",
     "output_type": "stream",
     "text": [
      "Matrix 6x6\n",
      "[[0.92259362 0.10018718 0.11115743 0.70829888 0.01595894 0.53046588]\n",
      " [0.42894989 0.23558267 0.17599439 0.309886   0.92699214 0.81712427]\n",
      " [0.58632676 0.72684037 0.95048685 0.32675327 0.71527669 0.03505854]\n",
      " [0.43070776 0.46977377 0.16232648 0.20867434 0.63615586 0.24881071]\n",
      " [0.13659345 0.59238192 0.31330235 0.78534836 0.67419376 0.65347289]\n",
      " [0.09337329 0.75107439 0.6900488  0.71320716 0.93883713 0.49206701]]\n",
      "\n",
      "\n",
      "\n",
      "Сумма 1 строки,деленной на минимум элемента 1 столбца : 25.581853467932625\n",
      "\n",
      "Сумма 2 строки,деленной на минимум элемента 2 столбца : 28.891215161515593\n",
      "\n",
      "Сумма 3 строки,деленной на минимум элемента 3 столбца : 30.054154816261736\n",
      "\n",
      "Сумма 4 строки,деленной на минимум элемента 4 столбца : 10.334039906505602\n",
      "\n",
      "Сумма 5 строки,деленной на минимум элемента 5 столбца : 197.71318233284066\n",
      "\n",
      "Сумма 6 строки,деленной на минимум элемента 6 столбца : 104.9275812937751\n",
      "\n"
     ]
    }
   ],
   "source": [
    "#второе задание\n",
    "import numpy as np\n",
    "y=np.random.random((6,6))\n",
    "res=[]\n",
    "print(\"Matrix 6x6\")\n",
    "print(y)\n",
    "for i in range(6):\n",
    "    sum=0\n",
    "    min=y[0][i]\n",
    "    for j in range(6):\n",
    "        sum+=y[i][j]\n",
    "        if(y[j][i]<min):\n",
    "            min=y[j][i]\n",
    "    sum/=min\n",
    "    res.append(sum)\n",
    "print(\"\\n\\n\")\n",
    "for i in range(6):\n",
    "    print(\"Сумма \"+str(1+i)+\" строки,деленной на минимум элемента \"+str(i+1)+\" столбца : \"+str(res[i])+\"\\n\")"
   ]
  },
  {
   "cell_type": "code",
   "execution_count": 8,
   "metadata": {},
   "outputs": [
    {
     "name": "stdout",
     "output_type": "stream",
     "text": [
      "[6 2 0 3 0 0 5 7 0]\n",
      "The max element, preceded by 0, is 5.\n"
     ]
    }
   ],
   "source": [
    "#Третье задание\n",
    "import numpy as np\n",
    "x=np.array([6,2,0,3,0,0,5,7,0])\n",
    "maxElement=0\n",
    "size=x.size\n",
    "print(x)\n",
    "for i in range(1,size):\n",
    "    if x[i-1]==0:\n",
    "        if x[i]>maxElement:\n",
    "            maxElement=x[i]\n",
    "print(\"The max element, preceded by 0, is \"+str(maxElement)+\".\")"
   ]
  },
  {
   "cell_type": "code",
   "execution_count": 12,
   "metadata": {},
   "outputs": [
    {
     "name": "stdout",
     "output_type": "stream",
     "text": [
      "[2. 2. 2. 2. 1. 4. 1. 1. 2. 1.]\n"
     ]
    }
   ],
   "source": [
    "#четвертое задание\n",
    "import numpy as np\n",
    "x=np.ones(10)\n",
    "i=np.array([0,1,2,3,5,5,5,8])\n",
    "size=i.size\n",
    "for j in range(size):\n",
    "    x[i[j]]+=1\n",
    "print(x)"
   ]
  },
  {
   "cell_type": "code",
   "execution_count": 30,
   "metadata": {},
   "outputs": [
    {
     "name": "stdout",
     "output_type": "stream",
     "text": [
      "{0: [0], 1: [1, 4], 2: [2, 5, 8], 3: [3, 6, 9, 12], 4: [7, 10, 13], 5: [11, 14], 6: [15]}\n"
     ]
    }
   ],
   "source": [
    "#Пятое задание\n",
    "import numpy as np\n",
    "n=4\n",
    "a=np.arange(n*n).reshape(n,n)\n",
    "dict1={}\n",
    "for i in range(n):\n",
    "    vect=[]\n",
    "    for j in range(i+1):\n",
    "        vect.append(a[j][i-j])\n",
    "    dict1.update({i:vect})\n",
    "for i in range(1,n):\n",
    "    vect=[]\n",
    "    for j in range(n-i):\n",
    "        vect.append(a[i+j][n-1-j])\n",
    "    dict1.update({n+i-1:vect})\n",
    "print(dict1)"
   ]
  },
  {
   "cell_type": "code",
   "execution_count": 7,
   "metadata": {},
   "outputs": [],
   "source": [
    "#шестое задание функции\n",
    "import numpy as np\n",
    "import random\n",
    "#описание библиотечной функции whiten \n",
    "def whiten (features):\n",
    "    x=np.array(features)\n",
    "    b=np.std(x,axis=0)\n",
    "    size=int(x.size/x[0].size)\n",
    "    for i in range(size):\n",
    "        x[i]/=b\n",
    "    return x\n",
    "\n",
    "#вычисляет расстояние между двумя точками\n",
    "def dist (x ,y):\n",
    "    n=x.size\n",
    "    res=0\n",
    "    for i in range(n):\n",
    "        res+=(x[i]-y[i])**2\n",
    "    return res**(0.5)\n",
    "#создает кластеры\n",
    "def creatCluster(x,centroid,S):\n",
    "    k=int(centroid.size/centroid[0].size)\n",
    "    n=int(x.size/x[0].size)\n",
    "    for i in range(n):#пробегает по всем х\n",
    "        index=0\n",
    "        minDistation=dist(x[i],centroid[0])\n",
    "        for j in range(1,k):#пробегает по всем centroid\n",
    "            dist2=dist(x[i],centroid[j])\n",
    "            if dist2<minDistation:\n",
    "                index=j\n",
    "                minDistation=dist2\n",
    "        S.append(index)\n",
    "#ищет центры тяжести\n",
    "def centerOfGravity(x,centroid,S):\n",
    "    k=int(centroid.size/centroid[0].size)\n",
    "    n=int(x.size/x[0].size)\n",
    "    for i in range(k):\n",
    "        rx=0.0\n",
    "        ry=0.0\n",
    "        sumK=0.0\n",
    "        for j in range(n):\n",
    "            if S[j]==i:\n",
    "                rx+=x[j][0]\n",
    "                ry+=x[j][1]\n",
    "                sumK+=1.0\n",
    "        if sumK==0:\n",
    "            rx=0\n",
    "            ry=0\n",
    "        else:\n",
    "            rx=rx/sumK\n",
    "            ry=ry/sumK\n",
    "        centroid[i][0]=rx\n",
    "        centroid[i][1]=ry\n",
    "#отклонение\n",
    "def variation(x,y):\n",
    "    n=int(x.size/x[0].size)\n",
    "    res=0.0\n",
    "    for i in range(n):\n",
    "        res+=dist(x[i],y[i])\n",
    "    return res\n",
    "#алгоритм kmean\n",
    "def kmean (obs,k_or_guess,tresh=1e-05):\n",
    "    var=1.\n",
    "    distortion=1.\n",
    "    n=int(obs.size/obs[0].size) \n",
    "    k=0\n",
    "    codebook=np.array\n",
    "\n",
    "    if type(k_or_guess)==type(k):\n",
    "        k=k_or_guess\n",
    "        S=[]\n",
    "        for i in range(n):\n",
    "            S.append(i)\n",
    "        random.shuffle(S)\n",
    "        codebook=np.array(obs[S[0]])\n",
    "        for i in range(1,k):\n",
    "            codebook=np.vstack((codebook,obs[S[i]]))\n",
    "    else:\n",
    "        codebook=np.array(k_or_guess)\n",
    "        k=int(k_or_guess.size/k_or_guess[0].size)\n",
    "            \n",
    "    while var>tresh:\n",
    "        distortion=var\n",
    "        S=[]\n",
    "        #нужно сделать кластер\n",
    "        creatCluster(obs,codebook,S)\n",
    "        #поиск центра тяжести\n",
    "        copy=np.array(codebook)\n",
    "        centerOfGravity(obs,codebook,S)\n",
    "        var=variation(copy,codebook)\n",
    "    return (codebook,distortion)\n"
   ]
  },
  {
   "cell_type": "code",
   "execution_count": 8,
   "metadata": {},
   "outputs": [
    {
     "data": {
      "text/plain": [
       "(array([[2.45121811, 3.03653641],\n",
       "        [0.98872663, 1.31944737]]), 0.8989556585890871)"
      ]
     },
     "execution_count": 8,
     "metadata": {},
     "output_type": "execute_result"
    }
   ],
   "source": [
    "#проверка шестого задания\n",
    "features = np.array([[ 1.9,2.3],#0\n",
    "                   [ 1.5,2.5],\n",
    "                   [ 0.8,0.6],#2\n",
    "                   [ 0.4,1.8],\n",
    "                   [ 0.1,0.1],#4\n",
    "                   [ 0.2,1.8],\n",
    "                   [ 2.0,0.5],#6\n",
    "                   [ 0.3,1.5],\n",
    "                   [ 1.0,1.0]])\n",
    "\n",
    "whitened=whiten(features)\n",
    "\n",
    "book=np.array((whitened[0],whitened[2]))\n",
    "\n",
    "kmean(whitened,book)"
   ]
  },
  {
   "cell_type": "code",
   "execution_count": 5,
   "metadata": {},
   "outputs": [
    {
     "data": {
      "text/plain": [
       "(array([[2.45121811, 3.03653641],\n",
       "        [0.98872663, 1.31944737]]), 0.9088234961964715)"
      ]
     },
     "execution_count": 5,
     "metadata": {},
     "output_type": "execute_result"
    }
   ],
   "source": [
    "#сравнение шестого задания, \n",
    "#если взять библиотечную функцию\n",
    "#ответ будет почти тот же\n",
    "from numpy import array\n",
    "from scipy.cluster.vq import vq, kmeans, whiten\n",
    "features  = array([[ 1.9,2.3],\n",
    "                   [ 1.5,2.5],\n",
    "                   [ 0.8,0.6],\n",
    "                   [ 0.4,1.8],\n",
    "                   [ 0.1,0.1],\n",
    "                   [ 0.2,1.8],\n",
    "                   [ 2.0,0.5],\n",
    "                   [ 0.3,1.5],\n",
    "                   [ 1.0,1.0]])\n",
    "whitened = whiten(features)\n",
    "book = array((whitened[0],whitened[2]))\n",
    "kmeans(whitened,book)"
   ]
  },
  {
   "cell_type": "code",
   "execution_count": 6,
   "metadata": {},
   "outputs": [
    {
     "data": {
      "text/plain": [
       "(array([[1.40584568, 0.69587293],\n",
       "        [2.45121811, 3.03653641],\n",
       "        [0.4325679 , 2.15087996]]), 0.5511808116483707)"
      ]
     },
     "execution_count": 6,
     "metadata": {},
     "output_type": "execute_result"
    }
   ],
   "source": [
    "#здесь вызвана библиотечная функция алгоритма kmeans\n",
    "from numpy import random\n",
    "random.seed((1000,2000))\n",
    "codes = 3\n",
    "kmeans(whitened,codes)"
   ]
  },
  {
   "cell_type": "code",
   "execution_count": 9,
   "metadata": {},
   "outputs": [
    {
     "data": {
      "text/plain": [
       "(array([[0.4325679 , 2.15087996],\n",
       "        [0.9131989 , 0.71695999],\n",
       "        [2.59540741, 2.23522819]]), 0.9959647282285382)"
      ]
     },
     "execution_count": 9,
     "metadata": {},
     "output_type": "execute_result"
    }
   ],
   "source": [
    "#здесь вызван алгоритм kmean, написанная мною\n",
    "#ответы отличаются,потому что были взяты разные центроиды\n",
    "from numpy import random\n",
    "random.seed((1000,2000))\n",
    "codes = 3\n",
    "kmean(whitened,codes)"
   ]
  },
  {
   "cell_type": "code",
   "execution_count": null,
   "metadata": {},
   "outputs": [],
   "source": []
  }
 ],
 "metadata": {
  "kernelspec": {
   "display_name": "Python 3",
   "language": "python",
   "name": "python3"
  },
  "language_info": {
   "codemirror_mode": {
    "name": "ipython",
    "version": 3
   },
   "file_extension": ".py",
   "mimetype": "text/x-python",
   "name": "python",
   "nbconvert_exporter": "python",
   "pygments_lexer": "ipython3",
   "version": "3.7.0"
  }
 },
 "nbformat": 4,
 "nbformat_minor": 2
}
